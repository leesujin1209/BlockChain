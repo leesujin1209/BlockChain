{
  "nbformat": 4,
  "nbformat_minor": 0,
  "metadata": {
    "colab": {
      "provenance": [],
      "authorship_tag": "ABX9TyOeTcLwGQoroHkTIOCd7HBN",
      "include_colab_link": true
    },
    "kernelspec": {
      "name": "python3",
      "display_name": "Python 3"
    },
    "language_info": {
      "name": "python"
    }
  },
  "cells": [
    {
      "cell_type": "markdown",
      "metadata": {
        "id": "view-in-github",
        "colab_type": "text"
      },
      "source": [
        "<a href=\"https://colab.research.google.com/github/leesujin1209/BlockChain/blob/main/9.ipynb\" target=\"_parent\"><img src=\"https://colab.research.google.com/assets/colab-badge.svg\" alt=\"Open In Colab\"/></a>"
      ]
    },
    {
      "cell_type": "markdown",
      "source": [
        "## 4.3 확률적 경사 하강법(생선 다중 분류)"
      ],
      "metadata": {
        "id": "_MfyAsu5g3pd"
      }
    },
    {
      "cell_type": "code",
      "execution_count": 12,
      "metadata": {
        "colab": {
          "base_uri": "https://localhost:8080/"
        },
        "id": "UW2CEf5FgZAR",
        "outputId": "de0ac580-b570-41ca-8456-5dcecaae2adf"
      },
      "outputs": [
        {
          "output_type": "stream",
          "name": "stdout",
          "text": [
            "0.773109243697479\n",
            "0.775\n",
            "0.7983193277310925\n",
            "0.775\n"
          ]
        },
        {
          "output_type": "stream",
          "name": "stderr",
          "text": [
            "/usr/local/lib/python3.12/dist-packages/sklearn/linear_model/_stochastic_gradient.py:738: ConvergenceWarning: Maximum number of iteration reached before convergence. Consider increasing max_iter to improve the fit.\n",
            "  warnings.warn(\n"
          ]
        }
      ],
      "source": [
        "import pandas as pd\n",
        "fish = pd.read_csv('https://bit.ly/fish_csv')\n",
        "\n",
        "fish_input = fish[['Weight','Length','Diagonal','Height','Width']]\n",
        "fish_target = fish['Species']\n",
        "\n",
        "from sklearn.model_selection import train_test_split\n",
        "train_input, test_input, train_target, test_target = train_test_split(fish_input,\n",
        "fish_target, random_state=42)\n",
        "\n",
        "from sklearn.preprocessing import StandardScaler\n",
        "ss = StandardScaler()\n",
        "ss.fit(train_input)\n",
        "train_scaled = ss.transform(train_input)\n",
        "test_scaled = ss.transform(test_input)\n",
        "\n",
        "from sklearn.linear_model import SGDClassifier\n",
        "sc = SGDClassifier(loss='log_loss',max_iter=10, random_state=42)\n",
        "sc.fit(train_scaled,train_target)\n",
        "print(sc.score(train_scaled,train_target))\n",
        "print(sc.score(test_scaled,test_target))\n",
        "\n",
        "sc.partial_fit(train_scaled, train_target)\n",
        "#sc.partial_fit(train_scaled, train_target)\n",
        "#sc.partial_fit(train_scaled, train_target)\n",
        "print(sc.score(train_scaled, train_target))\n",
        "print(sc.score(test_scaled, test_target))"
      ]
    },
    {
      "cell_type": "markdown",
      "source": [
        "    /usr/local/lib/python3.12/dist-packages/sklearn/linear_model/_stochastic_gradient.py:738: ConvergenceWarning: Maximum number of iteration reached before convergence. Consider increasing max_iter to improve the fit.warnings.warn(\n",
        "    \n",
        "해당 오류의 의미:   \n",
        "    \n",
        "SGDClassifier는 경사 하강법(gradient descent)으로 손실(loss)을 점점 줄여나가는데,\n",
        "지금 설정한 max_iter=10 (즉 10번 반복)은 너무 적어서 손실이 아직 충분히 줄지 않은 상태"
      ],
      "metadata": {
        "id": "lHIRXVzt1cVq"
      }
    },
    {
      "cell_type": "markdown",
      "source": [
        "점진적학습 (sc.partial_fit)을 1씩 증가 시키면서\n",
        "\n",
        "코드: sc.partial_fit(train_scaled, train_target)\n",
        "\n",
        "• 한번 할 때마다 1 에포크 증가\n",
        "\n",
        "•  모델을 초기화하지 않고, 이전 학습 내용을 유지하면서 점진적으로 학습\n",
        "\n",
        "• partial_fit()을 여러 번 호출하면, 매번 조금씩 가중치를 업데이트"
      ],
      "metadata": {
        "id": "Z5nPj3BtwZNb"
      }
    },
    {
      "cell_type": "code",
      "source": [
        "import pandas as pd\n",
        "fish = pd.read_csv('https://bit.ly/fish_csv')\n",
        "\n",
        "fish_input = fish[['Weight','Length','Diagonal','Height','Width']]\n",
        "fish_target = fish['Species']\n",
        "\n",
        "from sklearn.model_selection import train_test_split\n",
        "train_input, test_input, train_target, test_target = train_test_split(fish_input,\n",
        "fish_target, random_state=42)\n",
        "\n",
        "from sklearn.preprocessing import StandardScaler\n",
        "ss = StandardScaler()\n",
        "ss.fit(train_input)\n",
        "train_scaled = ss.transform(train_input)\n",
        "test_scaled = ss.transform(test_input)\n",
        "\n",
        "from sklearn.linear_model import SGDClassifier\n",
        "sc = SGDClassifier(loss='log_loss',max_iter=10, random_state=42)    #max_iter=10은 너무 적어서 수렴이 안 됨\n",
        "sc.fit(train_scaled,train_target)\n",
        "print(sc.score(train_scaled,train_target))\n",
        "print(sc.score(test_scaled,test_target))\n",
        "\n",
        "sc.partial_fit(train_scaled, train_target)\n",
        "#sc.partial_fit(train_scaled, train_target)\n",
        "#sc.partial_fit(train_scaled, train_target)\n",
        "print(sc.score(train_scaled, train_target))\n",
        "print(sc.score(test_scaled, test_target))\n",
        "\n",
        "import numpy as np\n",
        "train_score = []\n",
        "test_score = []\n",
        "classes = np.unique(train_target)\n",
        "for _ in range(0, 300):\n",
        "  sc.partial_fit(train_scaled, train_target, classes=classes)\n",
        "  train_score.append(sc.score(train_scaled, train_target))\n",
        "  test_score.append(sc.score(test_scaled, test_target))\n",
        "\n",
        "import matplotlib.pyplot as plt\n",
        "plt.plot(train_score, label = 'train')\n",
        "plt.plot(test_score, label = 'test')\n",
        "plt.xlabel('epoch')\n",
        "plt.ylabel('accuracy')\n",
        "plt.show()"
      ],
      "metadata": {
        "colab": {
          "base_uri": "https://localhost:8080/",
          "height": 568
        },
        "id": "TAxTXD8vn5am",
        "outputId": "46878fc1-aeed-4719-b979-0d36f9ca4eab"
      },
      "execution_count": 15,
      "outputs": [
        {
          "output_type": "stream",
          "name": "stderr",
          "text": [
            "/usr/local/lib/python3.12/dist-packages/sklearn/linear_model/_stochastic_gradient.py:738: ConvergenceWarning: Maximum number of iteration reached before convergence. Consider increasing max_iter to improve the fit.\n",
            "  warnings.warn(\n"
          ]
        },
        {
          "output_type": "stream",
          "name": "stdout",
          "text": [
            "0.773109243697479\n",
            "0.775\n",
            "0.7983193277310925\n",
            "0.775\n"
          ]
        },
        {
          "output_type": "display_data",
          "data": {
            "text/plain": [
              "<Figure size 640x480 with 1 Axes>"
            ],
            "image/png": "[encoded data removed]"
          },
          "metadata": {}
        }
      ]
    },
    {
      "cell_type": "code",
      "source": [
        "import pandas as pd\n",
        "fish = pd.read_csv('https://bit.ly/fish_csv')\n",
        "\n",
        "fish_input = fish[['Weight','Length','Diagonal','Height','Width']]\n",
        "fish_target = fish['Species']\n",
        "\n",
        "from sklearn.model_selection import train_test_split\n",
        "train_input, test_input, train_target, test_target = train_test_split(fish_input,\n",
        "fish_target, random_state=42)\n",
        "\n",
        "from sklearn.preprocessing import StandardScaler\n",
        "ss = StandardScaler()\n",
        "ss.fit(train_input)\n",
        "train_scaled = ss.transform(train_input)\n",
        "test_scaled = ss.transform(test_input)\n",
        "\n",
        "from sklearn.linear_model import SGDClassifier\n",
        "sc = SGDClassifier(loss='log_loss',max_iter=100, tol=None, random_state=42)    #tol = None은 최소 지정한 100번은 완료하라는 옵션\n",
        "sc.fit(train_scaled,train_target)\n",
        "print(sc.score(train_scaled,train_target))\n",
        "print(sc.score(test_scaled,test_target))\n",
        "\n",
        "# sc.partial_fit(train_scaled, train_target)\n",
        "# #sc.partial_fit(train_scaled, train_target)\n",
        "# #sc.partial_fit(train_scaled, train_target)\n",
        "# print(sc.score(train_scaled, train_target))\n",
        "# print(sc.score(test_scaled, test_target))\n",
        "\n",
        "# import numpy as np\n",
        "# train_score = []\n",
        "# test_score = []\n",
        "# classes = np.unique(train_target)\n",
        "# for _ in range(0, 300):\n",
        "#   sc.partial_fit(train_scaled, train_target, classes=classes)\n",
        "#   train_score.append(sc.score(train_scaled, train_target))\n",
        "#   test_score.append(sc.score(test_scaled, test_target))\n",
        "\n",
        "# import matplotlib.pyplot as plt\n",
        "# plt.plot(train_score, label = 'train')\n",
        "# plt.plot(test_score, label = 'test')\n",
        "# plt.xlabel('epoch')\n",
        "# plt.ylabel('accuracy')\n",
        "# plt.show()"
      ],
      "metadata": {
        "colab": {
          "base_uri": "https://localhost:8080/"
        },
        "id": "7CyTkVuBxLe2",
        "outputId": "9b9b1d87-a8ff-463d-a63d-10c8b8627cac"
      },
      "execution_count": 17,
      "outputs": [
        {
          "output_type": "stream",
          "name": "stdout",
          "text": [
            "0.957983193277311\n",
            "0.925\n"
          ]
        }
      ]
    },
    {
      "cell_type": "markdown",
      "source": [
        "| 단계        | 설명                              |\n",
        "| --------- | ------------------------------- |\n",
        "| 1. 데이터 로드 | 물고기 데이터 불러오기                    |\n",
        "| 2. 분리     | 입력(X), 타깃(y) 분리                 |\n",
        "| 3. 분할     | train/test 나누기                  |\n",
        "| 4. 스케일링   | 평균 0, 표준편차 1로 정규화               |\n",
        "| 5. 모델 정의  | SGDClassifier(확률적 경사 하강 기반 분류기) |\n",
        "| 6. 학습     | 훈련 데이터로 100번 반복 학습              |\n",
        "| 7. 평가     | 훈련셋과 테스트셋 정확도 출력                |\n"
      ],
      "metadata": {
        "id": "mNWSWbD4zTDW"
      }
    },
    {
      "cell_type": "markdown",
      "source": [
        "##오차와 손실함수\n",
        "\n",
        "| 항목      | 오차        | 손실함수      |\n",
        "| ------- | --------- | --------- |\n",
        "| **대상**  | 개별 예측     | 전체 모델     |\n",
        "| **형태**  | 단순 수치     | 수학적 함수    |\n",
        "| **역할**  | 예측 정확도 확인 | 모델 학습 최적화 |\n",
        "| **사용처** | 결과 해석     | 역전파 및 학습  |\n",
        "\n"
      ],
      "metadata": {
        "id": "zhlt1Oy_zoNo"
      }
    },
    {
      "cell_type": "code",
      "source": [],
      "metadata": {
        "id": "eF1c3SpFyyBn"
      },
      "execution_count": null,
      "outputs": []
    }
  ]
}