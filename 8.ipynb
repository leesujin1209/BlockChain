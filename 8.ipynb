{
  "nbformat": 4,
  "nbformat_minor": 0,
  "metadata": {
    "colab": {
      "provenance": [],
      "authorship_tag": "ABX9TyOncimbfBVB2yKY5ik+2rQE",
      "include_colab_link": true
    },
    "kernelspec": {
      "name": "python3",
      "display_name": "Python 3"
    },
    "language_info": {
      "name": "python"
    }
  },
  "cells": [
    {
      "cell_type": "markdown",
      "metadata": {
        "id": "view-in-github",
        "colab_type": "text"
      },
      "source": [
        "<a href=\"https://colab.research.google.com/github/leesujin1209/BlockChain/blob/main/8.ipynb\" target=\"_parent\"><img src=\"https://colab.research.google.com/assets/colab-badge.svg\" alt=\"Open In Colab\"/></a>"
      ]
    },
    {
      "cell_type": "markdown",
      "source": [
        "##로지스틱 회귀\n",
        "\n",
        "\n",
        "\n"
      ],
      "metadata": {
        "id": "B-NRpjlAaQi1"
      }
    },
    {
      "cell_type": "code",
      "execution_count": 3,
      "metadata": {
        "id": "VVGVd3Jmajad",
        "colab": {
          "base_uri": "https://localhost:8080/"
        },
        "outputId": "38301ae9-5273-4f31-c702-456b9a49c87d"
      },
      "outputs": [
        {
          "output_type": "stream",
          "name": "stdout",
          "text": [
            "['Bream' 'Roach' 'Whitefish' 'Parkki' 'Perch' 'Pike' 'Smelt']\n",
            "    Species  Weight  Length  Diagonal   Height   Width\n",
            "0     Bream   242.0    25.4      30.0  11.5200  4.0200\n",
            "1     Bream   290.0    26.3      31.2  12.4800  4.3056\n",
            "2     Bream   340.0    26.5      31.1  12.3778  4.6961\n",
            "3     Bream   363.0    29.0      33.5  12.7300  4.4555\n",
            "4     Bream   430.0    29.0      34.0  12.4440  5.1340\n",
            "..      ...     ...     ...       ...      ...     ...\n",
            "154   Smelt    12.2    12.2      13.4   2.0904  1.3936\n",
            "155   Smelt    13.4    12.4      13.5   2.4300  1.2690\n",
            "156   Smelt    12.2    13.0      13.8   2.2770  1.2558\n",
            "157   Smelt    19.7    14.3      15.2   2.8728  2.0672\n",
            "158   Smelt    19.9    15.0      16.2   2.9322  1.8792\n",
            "\n",
            "[159 rows x 6 columns]\n"
          ]
        }
      ],
      "source": [
        "import numpy as np\n",
        "import pandas as pd\n",
        "fish = pd.read_csv('http://bit.ly/fish_csv_data')\n",
        "print(pd.unique(fish['Species']))\n",
        "print(fish)                                     # print(fish.head())"
      ]
    },
    {
      "cell_type": "code",
      "source": [
        "import numpy as np\n",
        "import pandas as pd\n",
        "\n",
        "fish = pd.read_csv('http://bit.ly/fish_csv_data')\n",
        "print(pd.unique(fish['Species']))\n",
        "print(fish.head())"
      ],
      "metadata": {
        "colab": {
          "base_uri": "https://localhost:8080/"
        },
        "id": "rKP8jWlKbXbT",
        "outputId": "95373ea9-cfd0-4e7a-97b3-ec3a85c03f6d"
      },
      "execution_count": 8,
      "outputs": [
        {
          "output_type": "stream",
          "name": "stdout",
          "text": [
            "['Bream' 'Roach' 'Whitefish' 'Parkki' 'Perch' 'Pike' 'Smelt']\n",
            "  Species  Weight  Length  Diagonal   Height   Width\n",
            "0   Bream   242.0    25.4      30.0  11.5200  4.0200\n",
            "1   Bream   290.0    26.3      31.2  12.4800  4.3056\n",
            "2   Bream   340.0    26.5      31.1  12.3778  4.6961\n",
            "3   Bream   363.0    29.0      33.5  12.7300  4.4555\n",
            "4   Bream   430.0    29.0      34.0  12.4440  5.1340\n"
          ]
        }
      ]
    },
    {
      "cell_type": "code",
      "source": [
        "import numpy as np\n",
        "import pandas as pd\n",
        "from sklearn.model_selection import train_test_split\n",
        "\n",
        "\n",
        "fish = pd.read_csv('http://bit.ly/fish_csv_data')\n",
        "fish_input = fish[['Weight','Length','Diagonal','Height','Width']].to_numpy()\n",
        "fish_target = fish['Species'].to_numpy()\n",
        "\n",
        "train_input, test_input, train_target, test_target = train_test_split(fish_input, fish_target, random_state=42)"
      ],
      "metadata": {
        "id": "L9prv6hDcWyg"
      },
      "execution_count": 11,
      "outputs": []
    },
    {
      "cell_type": "markdown",
      "source": [
        "훈련 셋과 테스트 셋을 분리"
      ],
      "metadata": {
        "id": "x56gIB8geoHu"
      }
    },
    {
      "cell_type": "code",
      "source": [
        "import numpy as np\n",
        "import pandas as pd\n",
        "from sklearn.model_selection import train_test_split\n",
        "from sklearn.preprocessing import StandardScaler\n",
        "\n",
        "\n",
        "fish = pd.read_csv('http://bit.ly/fish_csv_data')\n",
        "fish_input = fish[['Weight','Length','Diagonal','Height','Width']].to_numpy()\n",
        "fish_target = fish['Species'].to_numpy()\n",
        "\n",
        "train_input, test_input, train_target, test_target = train_test_split(fish_input, fish_target, random_state=42)\n",
        "\n",
        "ss = StandardScaler()\n",
        "ss.fit(train_input)\n",
        "train_scaled = ss.transform(train_input)\n",
        "test_scaled = ss.transform(test_input)"
      ],
      "metadata": {
        "id": "Z1euZO_ZdL-x"
      },
      "execution_count": 12,
      "outputs": []
    },
    {
      "cell_type": "markdown",
      "source": [
        "최근접 이웃 - 스케일링"
      ],
      "metadata": {
        "id": "AF3ReHwyesuL"
      }
    },
    {
      "cell_type": "code",
      "source": [
        "import numpy as np\n",
        "import pandas as pd\n",
        "from sklearn.model_selection import train_test_split\n",
        "from sklearn.preprocessing import StandardScaler\n",
        "\n",
        "fish = pd.read_csv('http://bit.ly/fish_csv_data')\n",
        "fish_input = fish[['Weight','Length','Diagonal','Height','Width']].to_numpy()\n",
        "fish_target = fish['Species'].to_numpy()\n",
        "\n",
        "train_input, test_input, train_target, test_target = train_test_split(fish_input, fish_target, random_state=42)\n",
        "\n",
        "ss = StandardScaler()\n",
        "ss.fit(train_input)\n",
        "train_scaled = ss.transform(train_input)\n",
        "test_scaled = ss.transform(test_input)\n",
        "\n",
        "from sklearn.neighbors import KNeighborsClassifier\n",
        "kn = KNeighborsClassifier(n_neighbors=3)        # n_neighbors=3, n_neighbors=10\n",
        "\n",
        "kn.fit(train_scaled, train_target)\n",
        "print(test_target[:5])                           # 실제 값\n",
        "print(kn.predict(test_scaled[:5]))               # 예측 값\n",
        "# print(kn.classes_)                             # 클래스 이름 출력, 알파벳순 배열\n",
        "proba = kn.predict_proba(test_scaled[:5])        # 클래스별로 확률 확인\n",
        "\n",
        "print(np.round(proba, decimals=4))               # 소수점 4자리수까지 반올림"
      ],
      "metadata": {
        "colab": {
          "base_uri": "https://localhost:8080/"
        },
        "id": "a9zo3MKNe9ku",
        "outputId": "55248302-c1aa-46c8-dea4-9c38f09ad9eb"
      },
      "execution_count": 19,
      "outputs": [
        {
          "output_type": "stream",
          "name": "stdout",
          "text": [
            "['Perch' 'Smelt' 'Pike' 'Whitefish' 'Perch']\n",
            "['Perch' 'Smelt' 'Pike' 'Perch' 'Perch']\n",
            "[[0.     0.     1.     0.     0.     0.     0.    ]\n",
            " [0.     0.     0.     0.     0.     1.     0.    ]\n",
            " [0.     0.     0.     1.     0.     0.     0.    ]\n",
            " [0.     0.     0.6667 0.     0.3333 0.     0.    ]\n",
            " [0.     0.     0.6667 0.     0.3333 0.     0.    ]]\n"
          ]
        }
      ]
    },
    {
      "cell_type": "markdown",
      "source": [
        "##로지스틱을 이용한 이진분류: 돔과 빙어\n",
        "\n",
        "sigmoid(z),시그모이드 함수\n",
        "\n",
        "z 값을 입력받아 0과 1 사이의 값으로 출력\n",
        "\n",
        "0.5를 기준으로 작으면 음수 크면 양수"
      ],
      "metadata": {
        "id": "6MoiuGXbnbRJ"
      }
    },
    {
      "cell_type": "code",
      "source": [
        "import numpy as np\n",
        "import pandas as pd\n",
        "from sklearn.model_selection import train_test_split\n",
        "\n",
        "\n",
        "fish = pd.read_csv('http://bit.ly/fish_csv_data')\n",
        "fish_input = fish[['Weight','Length','Diagonal','Height','Width']].to_numpy()\n",
        "fish_target = fish['Species'].to_numpy()\n",
        "\n",
        "train_input, test_input, train_target, test_target = train_test_split(fish_input, fish_target, random_state=42)\n",
        "\n",
        "ss = StandardScaler()\n",
        "ss.fit(train_input)\n",
        "train_scaled = ss.transform(train_input)\n",
        "test_scaled = ss.transform(test_input)\n",
        "\n",
        "bream_smelt_indexes = (train_target == 'Bream') | (train_target == 'Smelt')    # 돔과 방어의 인덱스 추출       # 돔과 빙어의 인덱스 추출\n",
        "train_bream_smelt = train_scaled[bream_smelt_indexes]\n",
        "target_bream_smelt = train_target[bream_smelt_indexes]\n",
        "# print(train_target)\n",
        "# print(target_bream_smelt)\n",
        "\n",
        "from sklearn.linear_model import LogisticRegression\n",
        "\n",
        "lr = LogisticRegression()\n",
        "lr.fit(train_bream_smelt, target_bream_smelt)\n",
        "\n",
        "print(lr.predict(train_bream_smelt[:5]))                          # 예측 값\n",
        "print(lr.classes_)\n",
        "print(np.round(lr.predict_proba(train_bream_smelt[:5]), decimals=3))\n",
        "\n",
        "print(lr.coef_, lr.intercept_)                                    # 가중치 찍어보기\n",
        "decisions = lr.decision_function(train_bream_smelt[:5])           # z 출력\n",
        "print(decisions)\n",
        "print(np.round(decisions, decimals=2))\n",
        "\n",
        "from scipy.special import expit\n",
        "print(expit(decisions))                                           # expit는 시그모이드 함수로 돔 0, 빙어 1에 대한 확률을 출력"
      ],
      "metadata": {
        "colab": {
          "base_uri": "https://localhost:8080/"
        },
        "id": "oBxTjrEKfxEn",
        "outputId": "f4c5c6d9-797f-4ce1-bf87-54bf3209520a"
      },
      "execution_count": 29,
      "outputs": [
        {
          "output_type": "stream",
          "name": "stdout",
          "text": [
            "['Bream' 'Smelt' 'Bream' 'Bream' 'Bream']\n",
            "['Bream' 'Smelt']\n",
            "[[0.998 0.002]\n",
            " [0.027 0.973]\n",
            " [0.995 0.005]\n",
            " [0.986 0.014]\n",
            " [0.998 0.002]]\n",
            "[[-0.40451732 -0.57582787 -0.66248158 -1.01329614 -0.73123131]] [-2.16172774]\n",
            "[-6.02991358  3.57043428 -5.26630496 -4.24382314 -6.06135688]\n",
            "[-6.03  3.57 -5.27 -4.24 -6.06]\n",
            "[0.00239993 0.97262675 0.00513614 0.01414953 0.00232581]\n"
          ]
        }
      ]
    },
    {
      "cell_type": "markdown",
      "source": [
        "회귀라는 모델들은 어떤 값을 예측 하는 것임\n",
        "\n",
        "분류하고 회귀 배움\n",
        "\n",
        "분류는 이게 맞냐 이게 맞냐 하는 거 = 정확도 100개중에 몇 개 맞췄다\n",
        "\n",
        "회귀문제는 키가 몇센치일때 몇킬로다 이런건 못 맞춰 정확도가 아니고 결정 계수\n",
        "\n",
        "시그모이드 함수를 적용해가지고 돔이냐 빙어냐 확률을 내는 것"
      ],
      "metadata": {
        "id": "9V384gDWstDT"
      }
    },
    {
      "cell_type": "code",
      "source": [],
      "metadata": {
        "id": "FlJ-t0sPpbIC"
      },
      "execution_count": null,
      "outputs": []
    }
  ]
}