{
  "nbformat": 4,
  "nbformat_minor": 0,
  "metadata": {
    "colab": {
      "provenance": [],
      "authorship_tag": "ABX9TyOPla7lnnJCuRVjRv+MKtFb",
      "include_colab_link": true
    },
    "kernelspec": {
      "name": "python3",
      "display_name": "Python 3"
    },
    "language_info": {
      "name": "python"
    }
  },
  "cells": [
    {
      "cell_type": "markdown",
      "metadata": {
        "id": "view-in-github",
        "colab_type": "text"
      },
      "source": [
        "<a href=\"https://colab.research.google.com/github/leesujin1209/BlockChain/blob/main/5.ipynb\" target=\"_parent\"><img src=\"https://colab.research.google.com/assets/colab-badge.svg\" alt=\"Open In Colab\"/></a>"
      ]
    },
    {
      "cell_type": "markdown",
      "source": [
        "## 3.1 K-최근접 이웃 회귀\n"
      ],
      "metadata": {
        "id": "uRXx-L7aaR3E"
      }
    },
    {
      "cell_type": "code",
      "execution_count": null,
      "metadata": {
        "colab": {
          "base_uri": "https://localhost:8080/",
          "height": 449
        },
        "id": "RUx4SUhJQ8P4",
        "outputId": "65dd5d6f-39d3-4af8-b8c8-82bb6154b461"
      },
      "outputs": [
        {
          "output_type": "display_data",
          "data": {
            "text/plain": [
              "<Figure size 640x480 with 1 Axes>"
            ],
            "image/png": "[encoded data removed]"
          },
          "metadata": {}
        }
      ],
      "source": [
        "# 농어의 길이는 특성, 무게는 타깃\n",
        "# https://gist.github.com/rickiepark/2cd82455e985001542047d7d55d50630\n",
        "\n",
        "import numpy as np\n",
        "import matplotlib.pyplot as plt\n",
        "\n",
        "perch_length = np.array([8.4, 13.7, 15.0, 16.2, 17.4, 18.0, 18.7, 19.0, 19.6, 20.0, 21.0,\n",
        "       21.0, 21.0, 21.3, 22.0, 22.0, 22.0, 22.0, 22.0, 22.5, 22.5, 22.7,\n",
        "       23.0, 23.5, 24.0, 24.0, 24.6, 25.0, 25.6, 26.5, 27.3, 27.5, 27.5,\n",
        "       27.5, 28.0, 28.7, 30.0, 32.8, 34.5, 35.0, 36.5, 36.0, 37.0, 37.0,\n",
        "       39.0, 39.0, 39.0, 40.0, 40.0, 40.0, 40.0, 42.0, 43.0, 43.0, 43.5,\n",
        "       44.0])\n",
        "perch_weight = np.array([5.9, 32.0, 40.0, 51.5, 70.0, 100.0, 78.0, 80.0, 85.0, 85.0, 110.0,\n",
        "       115.0, 125.0, 130.0, 120.0, 120.0, 130.0, 135.0, 110.0, 130.0,\n",
        "       150.0, 145.0, 150.0, 170.0, 225.0, 145.0, 188.0, 180.0, 197.0,\n",
        "       218.0, 300.0, 260.0, 265.0, 250.0, 250.0, 300.0, 320.0, 514.0,\n",
        "       556.0, 840.0, 685.0, 700.0, 700.0, 690.0, 900.0, 650.0, 820.0,\n",
        "       850.0, 900.0, 1015.0, 820.0, 1100.0, 1000.0, 1100.0, 1000.0,\n",
        "       1000.0])\n",
        "\n",
        "plt.scatter(perch_length, perch_weight)\n",
        "plt.xlabel('length')\n",
        "plt.ylabel('weight')\n",
        "plt.show()\n",
        "# 산점도 출력"
      ]
    },
    {
      "cell_type": "markdown",
      "source": [],
      "metadata": {
        "id": "MsvFISG2T07X"
      }
    },
    {
      "cell_type": "code",
      "source": [
        "# 훈련 세트 준비\n",
        "\n",
        "import numpy as np\n",
        "from sklearn.model_selection import train_test_split\n",
        "from sklearn.neighbors import KNeighborsRegressor\n",
        "knr = KNeighborsRegressor()\n",
        "\n",
        "perch_length = np.array([8.4, 13.7, 15.0, 16.2, 17.4, 18.0, 18.7, 19.0, 19.6, 20.0, 21.0,\n",
        "       21.0, 21.0, 21.3, 22.0, 22.0, 22.0, 22.0, 22.0, 22.5, 22.5, 22.7,\n",
        "       23.0, 23.5, 24.0, 24.0, 24.6, 25.0, 25.6, 26.5, 27.3, 27.5, 27.5,\n",
        "       27.5, 28.0, 28.7, 30.0, 32.8, 34.5, 35.0, 36.5, 36.0, 37.0, 37.0,\n",
        "       39.0, 39.0, 39.0, 40.0, 40.0, 40.0, 40.0, 42.0, 43.0, 43.0, 43.5,\n",
        "       44.0])\n",
        "perch_weight = np.array([5.9, 32.0, 40.0, 51.5, 70.0, 100.0, 78.0, 80.0, 85.0, 85.0, 110.0,\n",
        "       115.0, 125.0, 130.0, 120.0, 120.0, 130.0, 135.0, 110.0, 130.0,\n",
        "       150.0, 145.0, 150.0, 170.0, 225.0, 145.0, 188.0, 180.0, 197.0,\n",
        "       218.0, 300.0, 260.0, 265.0, 250.0, 250.0, 300.0, 320.0, 514.0,\n",
        "       556.0, 840.0, 685.0, 700.0, 700.0, 690.0, 900.0, 650.0, 820.0,\n",
        "       850.0, 900.0, 1015.0, 820.0, 1100.0, 1000.0, 1100.0, 1000.0,\n",
        "       1000.0])\n",
        "\n",
        "train_input, test_input, train_target, test_target = train_test_split(perch_length, perch_weight, random_state=42)\n",
        "# print(train_input)\n",
        "# print(test_input)\n",
        "\n",
        "# train_input = train_input.reshape(42, 1)     # 42행 1열로 만들라는 말\n",
        "# train_input = train_input.reshape(21, 2)     # 21행 2열로 만들라는 말\n",
        "# train_input = train_input.reshape(-1, 2)     # -1은 알아서 바꾸라는 말\n",
        "# print(train_input)\n",
        "\n",
        "train_input = train_input.reshape(-1, 1)\n",
        "test_input = test_input.reshape(-1, 1)\n",
        "knr.fit(train_input, train_target)\n",
        "knr.score(test_input, test_target)\n",
        "knr.score(train_input, train_target)\n",
        "\n"
      ],
      "metadata": {
        "colab": {
          "base_uri": "https://localhost:8080/"
        },
        "id": "TDiuoB3bS7D7",
        "outputId": "4eeeeeae-b620-4feb-ff98-5172934dbd76"
      },
      "execution_count": null,
      "outputs": [
        {
          "output_type": "execute_result",
          "data": {
            "text/plain": [
              "0.9698823289099254"
            ]
          },
          "metadata": {},
          "execution_count": 13
        }
      ]
    },
    {
      "cell_type": "markdown",
      "source": [
        "무게가 기준이 되어야함\n",
        "\n",
        "\n",
        "넘파이 배열의 모양을 변경하는 거: reshape"
      ],
      "metadata": {
        "id": "d22xlDdvWeiW"
      }
    },
    {
      "cell_type": "markdown",
      "source": [
        "K 최근점 분류는\n",
        "0이냐 1이냐를 물어보기 때문에: 정확도\n",
        "\n",
        "분류의 경우 정확도는 테스트 셋 전체에서 샘플을 정확하게 맞추냐 안맞추냐이다.\n",
        "\n",
        "\n",
        "**결정 계수 = 정확도와 같이 비슷하게 나오도록 수치화를 맞췄음**\n",
        "\n",
        "R^2 = 1- (타깃-예측)^2의 합 / (타깃-평균)^2의 합\n",
        "\n",
        "타깃을 많이 맞춰서 값이 적으면 1에 수렴\n",
        "타깃을 많이 맞추지 못해서 값이 많으면 0에 수렴\n",
        "\n",
        "그러므로 정확도와 수치화가 맞음!\n",
        "\n",
        "타깃 = 예측 이라면 결정계수가 1이 되고\n",
        "\n",
        "최적 타깃과 예측의 차이가 벌어지면 1보다 점점 적어짐\n"
      ],
      "metadata": {
        "id": "gPL6rp1fYQ_g"
      }
    },
    {
      "cell_type": "markdown",
      "source": [
        "## 3.2 과대적합과 과소적합\n",
        "\n",
        "\n",
        "\n",
        "*   과대적합: 훈련세트 (결정계수)정확도 > 테스트 세트 정확도\n",
        "*   과소적합: 훈련세트 (결정계수)정확도 < 테스트 세트 정확도\n",
        "\n",
        "\n"
      ],
      "metadata": {
        "id": "hKgktbVFaWPQ"
      }
    },
    {
      "cell_type": "code",
      "source": [
        "# 이웃 개수 줄이기\n",
        "\n",
        "import numpy as np\n",
        "import matplotlib.pyplot as plt\n",
        "\n",
        "from sklearn.model_selection import train_test_split\n",
        "from sklearn.neighbors import KNeighborsRegressor\n",
        "\n",
        "knr = KNeighborsRegressor()\n",
        "knr.n_neighbors = 3         # 기본값: 5  이웃의 개수( = k)를 줄이면 극소에 예민해짐             = 과대적합\n",
        "                            #                                늘리면 전반에 일반적인 패턴을 따름 = 과소적합\n",
        "\n",
        "perch_length = np.array([8.4, 13.7, 15.0, 16.2, 17.4, 18.0, 18.7, 19.0, 19.6, 20.0, 21.0,\n",
        "       21.0, 21.0, 21.3, 22.0, 22.0, 22.0, 22.0, 22.0, 22.5, 22.5, 22.7,\n",
        "       23.0, 23.5, 24.0, 24.0, 24.6, 25.0, 25.6, 26.5, 27.3, 27.5, 27.5,\n",
        "       27.5, 28.0, 28.7, 30.0, 32.8, 34.5, 35.0, 36.5, 36.0, 37.0, 37.0,\n",
        "       39.0, 39.0, 39.0, 40.0, 40.0, 40.0, 40.0, 42.0, 43.0, 43.0, 43.5,\n",
        "       44.0])\n",
        "perch_weight = np.array([5.9, 32.0, 40.0, 51.5, 70.0, 100.0, 78.0, 80.0, 85.0, 85.0, 110.0,\n",
        "       115.0, 125.0, 130.0, 120.0, 120.0, 130.0, 135.0, 110.0, 130.0,\n",
        "       150.0, 145.0, 150.0, 170.0, 225.0, 145.0, 188.0, 180.0, 197.0,\n",
        "       218.0, 300.0, 260.0, 265.0, 250.0, 250.0, 300.0, 320.0, 514.0,\n",
        "       556.0, 840.0, 685.0, 700.0, 700.0, 690.0, 900.0, 650.0, 820.0,\n",
        "       850.0, 900.0, 1015.0, 820.0, 1100.0, 1000.0, 1100.0, 1000.0,\n",
        "       1000.0])\n",
        "\n",
        "train_input, test_input, train_target, test_target = train_test_split(perch_length, perch_weight, random_state=42)\n",
        "\n",
        "\n",
        "train_input = train_input.reshape(-1, 1)\n",
        "test_input = test_input.reshape(-1, 1)\n",
        "knr.fit(train_input, train_target)\n",
        "\n",
        "\n",
        "# 30,275와 40,921을 산점도에 표시\n",
        "print(knr.predict([[30]]), knr.predict([[40]]))\n",
        "\n",
        "plt.scatter([30], [275], marker='x', c='red')\n",
        "plt.scatter([40], [921], marker='x', c='red')\n",
        "\n",
        "plt.scatter(perch_length, perch_weight)\n",
        "plt.xlabel('length')\n",
        "plt.ylabel('weight')\n",
        "plt.show()\n",
        "\n",
        "# 농어의 길이에 따른 무게 예측\n"
      ],
      "metadata": {
        "colab": {
          "base_uri": "https://localhost:8080/",
          "height": 467
        },
        "id": "qqAge01rZ90_",
        "outputId": "9f21a2eb-8563-422d-c2f0-c57fce912db8"
      },
      "execution_count": null,
      "outputs": [
        {
          "output_type": "stream",
          "name": "stdout",
          "text": [
            "[275.] [921.66666667]\n"
          ]
        },
        {
          "output_type": "display_data",
          "data": {
            "text/plain": [
              "<Figure size 640x480 with 1 Axes>"
            ],
            "image/png": "[encoded data removed]"
          },
          "metadata": {}
        }
      ]
    },
    {
      "cell_type": "markdown",
      "source": [
        "![스크린샷 2025-09-25 150146.png](data:image/png;base64,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)"
      ],
      "metadata": {
        "id": "DeqfYbK2dw0n"
      }
    },
    {
      "cell_type": "code",
      "source": [],
      "metadata": {
        "id": "6UPuBf8rbjw_"
      },
      "execution_count": null,
      "outputs": []
    }
  ]
}