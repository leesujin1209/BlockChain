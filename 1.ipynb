{
  "nbformat": 4,
  "nbformat_minor": 0,
  "metadata": {
    "colab": {
      "provenance": [],
      "authorship_tag": "ABX9TyMnane/KjJGG+jcoS3lg8ES",
      "include_colab_link": true
    },
    "kernelspec": {
      "name": "python3",
      "display_name": "Python 3"
    },
    "language_info": {
      "name": "python"
    }
  },
  "cells": [
    {
      "cell_type": "markdown",
      "metadata": {
        "id": "view-in-github",
        "colab_type": "text"
      },
      "source": [
        "<a href=\"https://colab.research.google.com/github/leesujin1209/BlockChain/blob/main/1.ipynb\" target=\"_parent\"><img src=\"https://colab.research.google.com/assets/colab-badge.svg\" alt=\"Open In Colab\"/></a>"
      ]
    },
    {
      "cell_type": "code",
      "execution_count": null,
      "metadata": {
        "colab": {
          "base_uri": "https://localhost:8080/"
        },
        "id": "UMKJKWeuKl4Y",
        "outputId": "a5026665-b5cb-4da6-ca99-449487391862"
      },
      "outputs": [
        {
          "output_type": "stream",
          "name": "stdout",
          "text": [
            "말하기\n",
            "4말하기\n",
            "나랑말하기\n"
          ]
        },
        {
          "output_type": "execute_result",
          "data": {
            "text/plain": [
              "9"
            ]
          },
          "metadata": {},
          "execution_count": 3
        }
      ],
      "source": [
        "def say():\n",
        "  print(\"말하기\")\n",
        "say()\n",
        "\n",
        "def say(x):\n",
        "  print(\"%s말하기\"%x)\n",
        "say(4)\n",
        "say(\"나랑\")\n",
        "\n",
        "def add(x,y):\n",
        "  return x+y\n",
        "\n",
        "add(4,5)\n",
        "#add(\"나랑\", \"너랑\")"
      ]
    },
    {
      "cell_type": "code",
      "source": [
        "class test:\n",
        "  num=10\n",
        "  str='hello'\n",
        "  def show(self):\n",
        "    print(self.str)\n",
        "  def pick(self):\n",
        "    print(self.num)\n",
        "\n",
        "t = test()\n",
        "t.show()\n",
        "t.num=20\n",
        "t.pick()"
      ],
      "metadata": {
        "colab": {
          "base_uri": "https://localhost:8080/"
        },
        "id": "epc5auzCL1ls",
        "outputId": "a1add388-e7c1-4727-fabf-119eae369752"
      },
      "execution_count": null,
      "outputs": [
        {
          "output_type": "stream",
          "name": "stdout",
          "text": [
            "hello\n",
            "20\n"
          ]
        }
      ]
    },
    {
      "cell_type": "code",
      "source": [],
      "metadata": {
        "id": "WQ7k9hj6Mg5b"
      },
      "execution_count": null,
      "outputs": []
    }
  ]
}